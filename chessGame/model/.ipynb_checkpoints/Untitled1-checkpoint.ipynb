{
 "cells": [
  {
   "cell_type": "code",
   "execution_count": 4,
   "metadata": {
    "collapsed": true
   },
   "outputs": [],
   "source": [
    "import rule\n",
    "import math as m"
   ]
  },
  {
   "cell_type": "code",
   "execution_count": 84,
   "metadata": {
    "collapsed": false
   },
   "outputs": [],
   "source": [
    "\"\"\"\n",
    "a=검은 폰\n",
    "b=검은 룩\n",
    "c=검은 나이트\n",
    "d=검은 비숍\n",
    "e=검은 퀸\n",
    "f=검은 킹\n",
    "g=하얀 폰\n",
    "h=하얀 룩\n",
    "i=하얀 나이트\n",
    "j=하얀 비숍\n",
    "k=하얀 퀸\n",
    "l=하얀 킹\n",
    "x=빈칸\n",
    "Black = 1, White = 2\n",
    "\"\"\"\n",
    "def confirm_checkmate(board2, team):\n",
    "    board_pan = board2.copy()\n",
    "    Black_team = []\n",
    "\n",
    "    if team == 1: #만약에 '흰팀'이면\n",
    "        for i in range(len(board_pan[0])):\n",
    "            for j in range(len(board_pan[0])):\n",
    "                if board_pan[i][j] == 'l': #만약에 하얀 킹이면!?\n",
    "                    arrive_row = i\n",
    "                    arrive_col = j\n",
    "                    break\n",
    "        print (arrive_row)\n",
    "        a = str(arrive_row)\n",
    "        \n",
    "        #b = str(arrive_col)\n",
    "        #print (a,b)\n",
    "    \n",
    "        #elif board[i][j] == 'a' #만약에 검은 폰이면!?\n",
    "                    \n",
    "    "
   ]
  },
  {
   "cell_type": "code",
   "execution_count": null,
   "metadata": {
    "collapsed": true
   },
   "outputs": [],
   "source": []
  },
  {
   "cell_type": "code",
   "execution_count": null,
   "metadata": {
    "collapsed": true
   },
   "outputs": [],
   "source": []
  },
  {
   "cell_type": "code",
   "execution_count": null,
   "metadata": {
    "collapsed": true
   },
   "outputs": [],
   "source": []
  },
  {
   "cell_type": "code",
   "execution_count": 85,
   "metadata": {
    "collapsed": false
   },
   "outputs": [
    {
     "name": "stdout",
     "output_type": "stream",
     "text": [
      "7\n"
     ]
    },
    {
     "ename": "TypeError",
     "evalue": "'str' object is not callable",
     "output_type": "error",
     "traceback": [
      "\u001b[1;31m---------------------------------------------------------------------------\u001b[0m",
      "\u001b[1;31mTypeError\u001b[0m                                 Traceback (most recent call last)",
      "\u001b[1;32m<ipython-input-85-7d5111914715>\u001b[0m in \u001b[0;36m<module>\u001b[1;34m()\u001b[0m\n\u001b[0;32m      8\u001b[0m        ['h','i','j','k','l','j','i','h']]\n\u001b[0;32m      9\u001b[0m \u001b[1;33m\u001b[0m\u001b[0m\n\u001b[1;32m---> 10\u001b[1;33m \u001b[0mconfirm_checkmate\u001b[0m\u001b[1;33m(\u001b[0m\u001b[0mboard\u001b[0m\u001b[1;33m,\u001b[0m\u001b[1;36m1\u001b[0m\u001b[1;33m)\u001b[0m\u001b[1;33m\u001b[0m\u001b[0m\n\u001b[0m",
      "\u001b[1;32m<ipython-input-84-449d93e04205>\u001b[0m in \u001b[0;36mconfirm_checkmate\u001b[1;34m(board2, team)\u001b[0m\n\u001b[0;32m     27\u001b[0m                     \u001b[1;32mbreak\u001b[0m\u001b[1;33m\u001b[0m\u001b[0m\n\u001b[0;32m     28\u001b[0m         \u001b[0mprint\u001b[0m \u001b[1;33m(\u001b[0m\u001b[0marrive_row\u001b[0m\u001b[1;33m)\u001b[0m\u001b[1;33m\u001b[0m\u001b[0m\n\u001b[1;32m---> 29\u001b[1;33m         \u001b[0ma\u001b[0m \u001b[1;33m=\u001b[0m \u001b[0mstr\u001b[0m\u001b[1;33m(\u001b[0m\u001b[0marrive_row\u001b[0m\u001b[1;33m)\u001b[0m\u001b[1;33m\u001b[0m\u001b[0m\n\u001b[0m\u001b[0;32m     30\u001b[0m \u001b[1;33m\u001b[0m\u001b[0m\n\u001b[0;32m     31\u001b[0m         \u001b[1;31m#b = str(arrive_col)\u001b[0m\u001b[1;33m\u001b[0m\u001b[1;33m\u001b[0m\u001b[0m\n",
      "\u001b[1;31mTypeError\u001b[0m: 'str' object is not callable"
     ]
    }
   ],
   "source": [
    "board=[['b','c','d','e','f','d','c','b'],\n",
    "       ['a','a','a','a','a','a','a','a'],\n",
    "       ['x','x','x','x','x','x','x','x'],\n",
    "       ['x','x','x','e','x','x','x','x'],\n",
    "       ['x','x','x','x','x','x','x','x'],\n",
    "       ['x','x','x','x','x','x','x','x'],\n",
    "       ['g','g','g','g','g','g','g','g'],\n",
    "       ['h','i','j','k','l','j','i','h']]\n",
    "\n",
    "confirm_checkmate(board,1)\n"
   ]
  },
  {
   "cell_type": "code",
   "execution_count": null,
   "metadata": {
    "collapsed": true
   },
   "outputs": [],
   "source": []
  },
  {
   "cell_type": "code",
   "execution_count": null,
   "metadata": {
    "collapsed": true
   },
   "outputs": [],
   "source": []
  }
 ],
 "metadata": {
  "kernelspec": {
   "display_name": "Python 3",
   "language": "python",
   "name": "python3"
  },
  "language_info": {
   "codemirror_mode": {
    "name": "ipython",
    "version": 3
   },
   "file_extension": ".py",
   "mimetype": "text/x-python",
   "name": "python",
   "nbconvert_exporter": "python",
   "pygments_lexer": "ipython3",
   "version": "3.5.1"
  }
 },
 "nbformat": 4,
 "nbformat_minor": 0
}
